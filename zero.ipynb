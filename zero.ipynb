{
 "cells": [
  {
   "cell_type": "code",
   "execution_count": 7,
   "id": "b8c98f88",
   "metadata": {},
   "outputs": [],
   "source": [
    "from mpi4py import MPI\n",
    "from scipy import integrate\n",
    "import matplotlib.pyplot as plt\n",
    "import pandas as pd\n",
    "import numpy as np\n",
    "import random\n",
    "from datetime import datetime\n",
    "def get_time():\n",
    "    dt_obj = datetime.now()\n",
    "    print('current datetime :',dt_obj)\n",
    "def f(t,r):\n",
    "    x , y =r\n",
    "    fx_t = np.cos(y)\n",
    "    fy_t = np.sin(x)\n",
    "    return np.array([fx_t , fy_t])\n",
    "\n",
    "# def f2(t,r):\n",
    "#     C = r\n",
    "#     ep = 1.0\n",
    "#     dc_dt = -C/ep\n",
    "#     return dc_dt\n",
    "\n",
    "def solve_inte(y_0):\n",
    "    sol = integrate.solve_ivp(f,np.array([0,10]) , y_0, t_eval = np.linspace(0,10,100) )\n",
    "    x , y = sol.y\n",
    "    time = sol.t\n",
    "    plt.plot( x, y )\n",
    "     \n",
    "    plt.axis(\"scaled\")\n",
    "    #plt.show()\n"
   ]
  },
  {
   "cell_type": "code",
   "execution_count": 9,
   "id": "aed43136",
   "metadata": {},
   "outputs": [
    {
     "name": "stdout",
     "output_type": "stream",
     "text": [
      "0\n",
      "1\n"
     ]
    }
   ],
   "source": [
    "if __name__==\"__main__\":\n",
    "    \n",
    "    comm = MPI.COMM_WORLD\n",
    "    \n",
    "    rank = comm.Get_rank()\n",
    "    size = comm.Get_size()\n",
    "    print(rank)\n",
    "    print(size)"
   ]
  },
  {
   "cell_type": "code",
   "execution_count": 12,
   "id": "123f22b7",
   "metadata": {},
   "outputs": [
    {
     "name": "stdout",
     "output_type": "stream",
     "text": [
      " Volume in drive C is Windows-SSD\n",
      " Volume Serial Number is 32D4-0896\n",
      "\n",
      " Directory of C:\\Users\\ayush\\OneDrive\\Desktop\\IP-SSL\\ENV\\scipy_solveivp_mpi\n",
      "\n",
      "22-09-2022  16:28    <DIR>          .\n",
      "22-09-2022  16:28    <DIR>          ..\n",
      "22-09-2022  16:27    <DIR>          .ipynb_checkpoints\n",
      "22-09-2022  16:07             1,132 mpi.py\n",
      "22-09-2022  16:05               775 seq.py\n",
      "22-09-2022  15:10               493 try.py\n",
      "22-09-2022  15:50               198 x.py\n",
      "22-09-2022  16:28             2,310 zero.ipynb\n",
      "               5 File(s)          4,908 bytes\n",
      "               3 Dir(s)  97,627,398,144 bytes free\n"
     ]
    }
   ],
   "source": [
    "\n",
    "!dir"
   ]
  },
  {
   "cell_type": "code",
   "execution_count": 13,
   "id": "56130e45",
   "metadata": {},
   "outputs": [
    {
     "name": "stderr",
     "output_type": "stream",
     "text": [
      "Traceback (most recent call last):\n",
      "Traceback (most recent call last):\n",
      "  File \"C:\\Users\\ayush\\OneDrive\\Desktop\\IP-SSL\\ENV\\scipy_solveivp_mpi\\zero.ipynb\", line 70, in <module>\n",
      "  File \"C:\\Users\\ayush\\OneDrive\\Desktop\\IP-SSL\\ENV\\scipy_solveivp_mpi\\zero.ipynb\", line 70, in <module>\n",
      "Traceback (most recent call last):\n",
      "  File \"C:\\Users\\ayush\\OneDrive\\Desktop\\IP-SSL\\ENV\\scipy_solveivp_mpi\\zero.ipynb\", line 70, in <module>\n",
      "Traceback (most recent call last):\n",
      "  File \"C:\\Users\\ayush\\OneDrive\\Desktop\\IP-SSL\\ENV\\scipy_solveivp_mpi\\zero.ipynb\", line 70, in <module>\n",
      "    \"execution_count\": null,\n",
      "    \"execution_count\": null,\n",
      "    \"execution_count\": null,\n",
      "NameError: name 'null' is not defined\n",
      "NameError: name 'null' is not defined\n",
      "NameError: name 'null' is not defined\n",
      "    \"execution_count\": null,\n",
      "NameError: name 'null' is not defined\n"
     ]
    }
   ],
   "source": [
    "!mpiexec -n 4 python zero.ipynb"
   ]
  },
  {
   "cell_type": "code",
   "execution_count": null,
   "id": "11ad9002",
   "metadata": {},
   "outputs": [],
   "source": []
  }
 ],
 "metadata": {
  "kernelspec": {
   "display_name": "Python 3 (ipykernel)",
   "language": "python",
   "name": "python3"
  },
  "language_info": {
   "codemirror_mode": {
    "name": "ipython",
    "version": 3
   },
   "file_extension": ".py",
   "mimetype": "text/x-python",
   "name": "python",
   "nbconvert_exporter": "python",
   "pygments_lexer": "ipython3",
   "version": "3.9.12"
  }
 },
 "nbformat": 4,
 "nbformat_minor": 5
}
